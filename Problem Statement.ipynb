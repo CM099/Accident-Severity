{
 "cells": [
  {
   "cell_type": "code",
   "execution_count": 1,
   "metadata": {},
   "outputs": [
    {
     "ename": "SyntaxError",
     "evalue": "invalid syntax (<ipython-input-1-dafe37cee3eb>, line 1)",
     "output_type": "error",
     "traceback": [
      "\u001b[1;36m  File \u001b[1;32m\"<ipython-input-1-dafe37cee3eb>\"\u001b[1;36m, line \u001b[1;32m1\u001b[0m\n\u001b[1;33m    **Introduction/Business Problem**\u001b[0m\n\u001b[1;37m     ^\u001b[0m\n\u001b[1;31mSyntaxError\u001b[0m\u001b[1;31m:\u001b[0m invalid syntax\n"
     ]
    }
   ],
   "source": [
    "**Introduction/Business Problem**\n",
    "\n",
    "Vehicle accidents are a common sight everywhere irrespective of the country , or the state , or the region.  It is a known fact that \n",
    "negligence alone is not the key cause of all the casualities happening. The problem at hand is to learn and analyse the accident data \n",
    "available and derive a model taking into account all the cumulative effects of various factors including, weather condition, traffic congestion, time, make \n",
    "and model of the vehicle, uses of drugs and alcohol etc in causing the accidents, thus predicting the probability of occurence under the given conditions\n",
    "and also identify the relationship between various factors and the casualities. The intended audience is not only the Seattle authorities who\n",
    "are trying to solve the accident issues, but also includes the public, by giving insights on the key factors leading to the rise in \n",
    "in accidents, so as to take extra care and attention when the possibility of occurence is high. \n"
   ]
  },
  {
   "cell_type": "code",
   "execution_count": null,
   "metadata": {},
   "outputs": [],
   "source": []
  }
 ],
 "metadata": {
  "kernelspec": {
   "display_name": "Python 3",
   "language": "python",
   "name": "python3"
  },
  "language_info": {
   "codemirror_mode": {
    "name": "ipython",
    "version": 3
   },
   "file_extension": ".py",
   "mimetype": "text/x-python",
   "name": "python",
   "nbconvert_exporter": "python",
   "pygments_lexer": "ipython3",
   "version": "3.6.5"
  }
 },
 "nbformat": 4,
 "nbformat_minor": 2
}
