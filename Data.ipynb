{
 "cells": [
  {
   "cell_type": "markdown",
   "metadata": {},
   "source": [
    "## DATA\n",
    "\n",
    "\n",
    "I have made use of the collisions_csv given as the example data set as it contains all useful attributes and also it's schema is well elaborated.The data has a vast collection of instances with over 194679 rows and 38 columns. The data has used certain codes to indicate the severity of accidents and has also included details using SCOD (State Collision Code Dictionary). Since there are many unfilled attributes, the missing values have to be dealt in prior.\n"
   ]
  }
 ],
 "metadata": {
  "kernelspec": {
   "display_name": "Python 3",
   "language": "python",
   "name": "python3"
  },
  "language_info": {
   "codemirror_mode": {
    "name": "ipython",
    "version": 3
   },
   "file_extension": ".py",
   "mimetype": "text/x-python",
   "name": "python",
   "nbconvert_exporter": "python",
   "pygments_lexer": "ipython3",
   "version": "3.6.5"
  }
 },
 "nbformat": 4,
 "nbformat_minor": 2
}
