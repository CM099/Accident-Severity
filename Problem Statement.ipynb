{
 "cells": [
  {
   "cell_type": "markdown",
   "metadata": {},
   "source": [
    "# Introduction/Business Problem\n",
    "\n",
    "Vehicle accidents are a common sight everywhere irrespective of the country , or the state , or the region.  It is a known fact that negligence alone is not the key cause of all the casualities happening. The problem at hand is to learn and analyse the accident data available and derive a model taking into account all the cumulative effects of various factors including, weather condition, traffic congestion, time, make and model of the vehicle, uses of drugs and alcohol etc in causing the accidents, thus predicting the probability of occurence under the given conditions and also identify the relationship between various factors and the casualities. The intended audience is not only the Seattle authorities who are trying to solve the accident issues, but also includes the public, by giving insights on the key factors leading to the rise in accidents, so as to take extra care and attention when the possibility of occurence is high."
   ]
  }
 ],
 "metadata": {
  "kernelspec": {
   "display_name": "Python 3",
   "language": "python",
   "name": "python3"
  },
  "language_info": {
   "codemirror_mode": {
    "name": "ipython",
    "version": 3
   },
   "file_extension": ".py",
   "mimetype": "text/x-python",
   "name": "python",
   "nbconvert_exporter": "python",
   "pygments_lexer": "ipython3",
   "version": "3.6.5"
  }
 },
 "nbformat": 4,
 "nbformat_minor": 2
}
